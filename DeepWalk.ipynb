{
 "cells": [
  {
   "cell_type": "code",
   "execution_count": 3,
   "id": "cfc55773",
   "metadata": {
    "pycharm": {
     "name": "#%%\n"
    }
   },
   "outputs": [],
   "source": [
    "# 复现DeepWalk\n",
    "# 2022.07.25\n",
    "# referece github links:https://github.com/dsgiitr/graph_nets/blob/master/DeepWalk/DeepWalk.py"
   ]
  },
  {
   "cell_type": "code",
   "execution_count": 4,
   "id": "d063e8cc",
   "metadata": {
    "pycharm": {
     "name": "#%%\n"
    }
   },
   "outputs": [],
   "source": [
    "import os\n",
    "project_path = os.getcwd()\n",
    "\n",
    "import numpy as np\n",
    "import pandas as pd\n",
    "\n",
    "import torch\n",
    "import torch.nn as nn\n",
    "import random"
   ]
  },
  {
   "cell_type": "markdown",
   "id": "4ff4c335",
   "metadata": {
    "pycharm": {
     "name": "#%% md\n"
    }
   },
   "source": [
    "# DeepWalk"
   ]
  },
  {
   "cell_type": "code",
   "execution_count": 5,
   "id": "fe5ee802",
   "metadata": {},
   "outputs": [],
   "source": [
    "adj_list = [[1,2,3],[0,2,3],[0,1,3],[0,1,2],[5,6],[4,6],[4,5],[1,3]]\n",
    "size_vertex = len(adj_list) # number of vertices"
   ]
  },
  {
   "cell_type": "code",
   "execution_count": 6,
   "id": "562f99e1",
   "metadata": {},
   "outputs": [
    {
     "data": {
      "text/plain": [
       "[[1, 2, 3], [0, 2, 3], [0, 1, 3], [0, 1, 2], [5, 6], [4, 6], [4, 5], [1, 3]]"
      ]
     },
     "execution_count": 6,
     "metadata": {},
     "output_type": "execute_result"
    }
   ],
   "source": [
    "adj_list"
   ]
  },
  {
   "cell_type": "markdown",
   "id": "b2faa6c0",
   "metadata": {},
   "source": [
    "## variables"
   ]
  },
  {
   "cell_type": "code",
   "execution_count": 7,
   "id": "a30b4c68",
   "metadata": {},
   "outputs": [],
   "source": [
    "w = 3 # window size\n",
    "d = 3 # embedding size\n",
    "y = 200 # walks per ventext\n",
    "t = 6 # walk length\n",
    "lr = 0.025 # learning rate"
   ]
  },
  {
   "cell_type": "code",
   "execution_count": 8,
   "id": "ce0e85d1",
   "metadata": {},
   "outputs": [],
   "source": [
    "v = [0,1,2,3,4,5,6] # labels of available vertices"
   ]
  },
  {
   "cell_type": "markdown",
   "id": "0ac136fa",
   "metadata": {},
   "source": [
    "## random_walk"
   ]
  },
  {
   "cell_type": "code",
   "execution_count": 9,
   "id": "4bb6fee7",
   "metadata": {},
   "outputs": [
    {
     "data": {
      "text/plain": [
       "[1, 2, 3]"
      ]
     },
     "execution_count": 9,
     "metadata": {},
     "output_type": "execute_result"
    }
   ],
   "source": [
    "adj_list[0]"
   ]
  },
  {
   "cell_type": "code",
   "execution_count": 10,
   "id": "8c906c8c",
   "metadata": {},
   "outputs": [],
   "source": [
    "def RandomWalk(node, t):\n",
    "    walk = [node]\n",
    "\n",
    "    for i in range(t - 1): # 控制步长循环次数\n",
    "        list_length = len(adj_list[node])-1 # node邻接节点个数\n",
    "        node_index = random.randint(0, list_length) # 随机生成的索引值，randit生成[low,high]闭区间内的一个整数值\n",
    "        node = adj_list[node][node_index]  # 取一个邻居节点\n",
    "        walk.append(node)\n",
    "    return walk"
   ]
  },
  {
   "cell_type": "code",
   "execution_count": 11,
   "id": "111e2b77",
   "metadata": {},
   "outputs": [
    {
     "data": {
      "text/plain": [
       "[4, 5, 4, 5, 4, 5]"
      ]
     },
     "execution_count": 11,
     "metadata": {},
     "output_type": "execute_result"
    }
   ],
   "source": [
    "RandomWalk(4,t)"
   ]
  },
  {
   "cell_type": "markdown",
   "id": "243d8959",
   "metadata": {},
   "source": [
    "## model"
   ]
  },
  {
   "cell_type": "code",
   "execution_count": 12,
   "id": "b7cdced5",
   "metadata": {},
   "outputs": [],
   "source": [
    "class Model(torch.nn.Module):\n",
    "    def __init__(self):\n",
    "        super(Model, self).__init__()\n",
    "        self.phi  = nn.Parameter(torch.rand((size_vertex, d), requires_grad=True)) # size_vertex是one-hot向量维度，d是word embedding维度\n",
    "        self.phi2 = nn.Parameter(torch.rand((d, size_vertex), requires_grad=True))\n",
    "        \n",
    "        \n",
    "    def forward(self, one_hot):\n",
    "        hidden = torch.matmul(one_hot, self.phi)\n",
    "        out    = torch.matmul(hidden, self.phi2)\n",
    "        return out\n",
    "\n",
    "model = Model()"
   ]
  },
  {
   "cell_type": "code",
   "execution_count": 14,
   "id": "83e6c8f0",
   "metadata": {},
   "outputs": [],
   "source": [
    "# def One_Hot(wvi,v):\n",
    "#     # wvi表示random walk生成的node sequence;v表示node sequence\n",
    "#     from torch.nn import functional\n",
    "#     label = torch.tensor(wvi)  # 将列表转换为tensor类型，列表中元素代表的是索引值\n",
    "#     num_class = len(set(v)) # 代表节点个数\n",
    "#     label2one_hot = functional.one_hot(label, num_classes=num_class)\n",
    "#     print(\"LongTensor:\", label2one_hot)       #LongTensor类型\n",
    "#     print(\"ndarray:\", label2one_hot.numpy())  # ndarray 类型\n",
    "#     print(\"list:\", label2one_hot.numpy().tolist())  # list 类型\n",
    "#     return label2one_hot"
   ]
  },
  {
   "cell_type": "markdown",
   "id": "34b211e3",
   "metadata": {},
   "source": [
    "## skip_gram"
   ]
  },
  {
   "cell_type": "code",
   "execution_count": 49,
   "id": "18fa5041",
   "metadata": {},
   "outputs": [],
   "source": [
    "# def skip_gram(wvi,  w):\n",
    "#     # wvi表示random walk生成的node sequence；w = 3 window size\n",
    "#     for j in range(len(wvi)):\n",
    "#         for k in range(max(0,j-w) , min(j+w+1, len(wvi))): # 确定中心点j左右范围，k遍历中心点j的左右位置\n",
    "# #             print(j,' ',k)\n",
    "#             #generate one hot vector\n",
    "#             one_hot          = torch.zeros(size_vertex)\n",
    "#             one_hot[wvi[j]]  = 1\n",
    "            \n",
    "#             out              = model(one_hot)\n",
    "#             loss             = torch.log(torch.sum(torch.exp(out))) - out[wvi[k]]\n",
    "# #             print(loss)\n",
    "#             loss.backward()\n",
    "            \n",
    "#             for param in model.parameters():\n",
    "# #                 print(param)\n",
    "#                 param.data.sub_(lr*param.grad)\n",
    "#                 param.grad.data.zero_()"
   ]
  },
  {
   "cell_type": "code",
   "execution_count": 52,
   "id": "d08a7f14",
   "metadata": {},
   "outputs": [],
   "source": [
    "def skip_gram(wvi, w):\n",
    "    # wvi表示random walk生成的node sequence；w = 3 window size\n",
    "    for j in range(len(wvi)):\n",
    "\n",
    "        # # 计算上下文词数量C\n",
    "        # c = min(j + w + 1, len(wvi)) - max(0, j - w)\n",
    "\n",
    "        # 损失函数loss=每个panel的第ti=1那个位置误差error之和\n",
    "        # generate one hot vector\n",
    "        one_hot = torch.zeros(size_vertex)\n",
    "        one_hot[wvi[j]] = 1  # 中心词输入one-hot向量\n",
    "        # 未激活的输出向量\n",
    "        out = model(one_hot)\n",
    "\n",
    "        loss = 0\n",
    "        # for c-th panel\n",
    "        for k in range(max(0, j - w), min(j + w + 1, len(wvi))):  # 确定中心点j左右范围，k遍历中心点j的左右位置\n",
    "            # 损失函数e=每个panel的第j个位置误差之和\n",
    "            error = torch.log(torch.sum(torch.exp(out))) - out[wvi[k]]\n",
    "            loss += error\n",
    "        loss.backward()\n",
    "\n",
    "        for param in model.parameters():\n",
    "            param.data.sub_(lr * param.grad)\n",
    "            param.grad.data.zero_() # param.grad就是每次迭代计算的误差error，需要每次重置为0"
   ]
  },
  {
   "cell_type": "code",
   "execution_count": 53,
   "id": "62eca3f4",
   "metadata": {
    "code_folding": []
   },
   "outputs": [],
   "source": [
    "for i in range(y):\n",
    "    random.shuffle(v)\n",
    "    for vi in v:\n",
    "        wvi=RandomWalk(vi,t)\n",
    "        skip_gram(wvi, w)"
   ]
  },
  {
   "cell_type": "code",
   "execution_count": 54,
   "id": "cca87726",
   "metadata": {
    "code_folding": []
   },
   "outputs": [
    {
     "name": "stdout",
     "output_type": "stream",
     "text": [
      "Parameter containing:\n",
      "tensor([[ 0.9548,  0.5674,  0.2238],\n",
      "        [ 0.5477, -0.1744,  0.9595],\n",
      "        [ 0.5044,  0.5926,  0.7232],\n",
      "        [ 0.9641, -0.0202,  0.3248],\n",
      "        [-0.8217,  1.0645, -0.5738],\n",
      "        [-0.6344,  0.7642, -0.9929],\n",
      "        [-1.0496,  0.7286, -0.6431],\n",
      "        [ 0.1929,  0.9062,  0.3201]], requires_grad=True)\n"
     ]
    }
   ],
   "source": [
    "print(model.phi)"
   ]
  },
  {
   "cell_type": "code",
   "execution_count": 45,
   "id": "d024d08c",
   "metadata": {},
   "outputs": [],
   "source": [
    "# wvi=RandomWalk(0,t) # wvi表示random walk生成的node sequence\n",
    "# skip_gram(wvi, w)"
   ]
  },
  {
   "cell_type": "code",
   "execution_count": 13,
   "id": "2859e929",
   "metadata": {},
   "outputs": [
    {
     "name": "stdout",
     "output_type": "stream",
     "text": [
      "phi \t torch.Size([8, 3])\n",
      "phi2 \t torch.Size([3, 8])\n"
     ]
    }
   ],
   "source": [
    "for param in model.state_dict():\n",
    "    print(param, '\\t', model.state_dict()[param].size())"
   ]
  }
 ],
 "metadata": {
  "kernelspec": {
   "display_name": "Python 3 (ipykernel)",
   "language": "python",
   "name": "python3"
  },
  "language_info": {
   "codemirror_mode": {
    "name": "ipython",
    "version": 3
   },
   "file_extension": ".py",
   "mimetype": "text/x-python",
   "name": "python",
   "nbconvert_exporter": "python",
   "pygments_lexer": "ipython3",
   "version": "3.9.12"
  },
  "toc": {
   "base_numbering": 1,
   "nav_menu": {},
   "number_sections": true,
   "sideBar": true,
   "skip_h1_title": false,
   "title_cell": "Table of Contents",
   "title_sidebar": "Contents",
   "toc_cell": false,
   "toc_position": {
    "height": "calc(100% - 180px)",
    "left": "10px",
    "top": "150px",
    "width": "426.667px"
   },
   "toc_section_display": true,
   "toc_window_display": true
  }
 },
 "nbformat": 4,
 "nbformat_minor": 5
}
